{
 "cells": [
  {
   "cell_type": "markdown",
   "metadata": {},
   "source": [
    "# Description\n",
    "This notebook generates a csv from the raw JSON route data. YOu can choose to either generate a (large) csv where each line is a GPS datapoint with attached metadata or a small one where each line contains just the routes metadata. It requires the user data to add information on the organisation the participant is part of. \n"
   ]
  },
  {
   "cell_type": "code",
   "execution_count": null,
   "metadata": {},
   "outputs": [],
   "source": [
    "import numpy as np\n",
    "import json\n",
    "import csv\n",
    "import pandas as pd       \n",
    "\n",
    "users = {}\n",
    "walksfile = '../Event_Walks.json'"
   ]
  },
  {
   "cell_type": "code",
   "execution_count": null,
   "metadata": {},
   "outputs": [],
   "source": [
    "with open(\"../Users.json\", \"r\", encoding='utf8') as read_userfiles:\n",
    "    userlist = json.load(read_userfiles)\n",
    "    for user in userlist['result']['users']:\n",
    "        if 'demographicGroup' in user.keys():\n",
    "            users[user['id']] = user['demographicGroup']\n",
    "        else:\n",
    "            users[user['id']] = 'Not Found'"
   ]
  },
  {
   "cell_type": "markdown",
   "metadata": {},
   "source": [
    "# Run the code in the cell below to generate a csv where each row contains a gps point and relevant metadata"
   ]
  },
  {
   "cell_type": "code",
   "execution_count": null,
   "metadata": {
    "scrolled": true
   },
   "outputs": [],
   "source": [
    "with open(walksfile, \"r\") as read_file:\n",
    "    data = json.load(read_file)\n",
    "    routeDF = pd.DataFrame()\n",
    "    for walk in data['result']['walks']:\n",
    "        print(walk['createdBy'])\n",
    "        #print(users[walk['createdBy']])\n",
    "        latlngDF = pd.DataFrame(walk['locationData'])\n",
    "        if users:\n",
    "            try:\n",
    "                organisation = users[walk['createdBy']]\n",
    "            except KeyError:\n",
    "                organisation = 'Not Found'\n",
    "        else:\n",
    "            organisation = 'Not Found'\n",
    "            \n",
    "        print(organisation)\n",
    "        latlngDF[\"roudeId\"] = walk[\"id\"]\n",
    "        latlngDF[\"createdBy\"] = walk[\"createdBy\"]\n",
    "        latlngDF[\"organisation\"] = organisation\n",
    "        latlngDF[\"duration (minutes)\"] = walk[\"duration\"]/60000\n",
    "        latlngDF[\"distance (km)\"] = walk[\"distance\"]\n",
    "        latlngDF['start_time'] = walk['startedAt']\n",
    "        latlngDF['end_time'] = walk['endedAt']\n",
    "        \n",
    "        latlngDF[\"latitude\"] = pd.to_numeric(latlngDF[\"latitude\"], downcast=\"float\")\n",
    "        latlngDF[\"longitude\"] = pd.to_numeric(latlngDF[\"longitude\"], downcast=\"float\")\n",
    "        routeDF = routeDF.append(latlngDF, ignore_index=True)\n",
    "        \n",
    "routeDF.to_csv('route_output.csv', index='false', sep=';')"
   ]
  },
  {
   "cell_type": "markdown",
   "metadata": {},
   "source": [
    "# Run the code in the cell below to generate a csv where each row contains a only the unique route metadata information (much smaller)"
   ]
  },
  {
   "cell_type": "code",
   "execution_count": null,
   "metadata": {},
   "outputs": [],
   "source": [
    "with open(walksfile, \"r\") as read_file:\n",
    "    data = json.load(read_file)\n",
    "    routeDF = pd.DataFrame()\n",
    "    for walk in data['result']['walks']:\n",
    "        latlngDF = pd.Series()\n",
    "        if users:\n",
    "            try:\n",
    "                organisation = users[walk['createdBy']]\n",
    "            except KeyError:\n",
    "                organisation = 'Not Found'\n",
    "        else:\n",
    "            organisation = 'unknown'\n",
    "        #print(latlngDF)\n",
    "        latlngDF[\"roudeId\"] = walk[\"id\"]\n",
    "        latlngDF[\"createdBy\"] = walk[\"createdBy\"]\n",
    "        latlngDF[\"organisation\"] = organisation\n",
    "        latlngDF[\"duration (minutes)\"] = walk[\"duration\"]/60000\n",
    "        latlngDF[\"distance (km)\"] = walk[\"distance\"]\n",
    "        latlngDF['start_time'] = walk['startedAt']\n",
    "        latlngDF['end_time'] = walk['endedAt']\n",
    "        \n",
    "        routeDF = routeDF.append(latlngDF, ignore_index=True)\n",
    "        \n",
    "routeDF.to_csv('route_output_routesOnly.csv', index='false', sep=';')"
   ]
  },
  {
   "cell_type": "code",
   "execution_count": null,
   "metadata": {},
   "outputs": [],
   "source": []
  }
 ],
 "metadata": {
  "kernelspec": {
   "display_name": "Python 3",
   "language": "python",
   "name": "python3"
  },
  "language_info": {
   "codemirror_mode": {
    "name": "ipython",
    "version": 3
   },
   "file_extension": ".py",
   "mimetype": "text/x-python",
   "name": "python",
   "nbconvert_exporter": "python",
   "pygments_lexer": "ipython3",
   "version": "3.7.3"
  }
 },
 "nbformat": 4,
 "nbformat_minor": 2
}
