{
 "cells": [
  {
   "cell_type": "markdown",
   "metadata": {},
   "source": [
    "# Download photos to folders"
   ]
  },
  {
   "cell_type": "markdown",
   "metadata": {},
   "source": [
    "Required files:\n",
    "- Userlist from Urban Belonging app\n",
    "- Event export JSON containing all the photos\n",
    "\n",
    "\n",
    "Result: All photos will be distributed in folders. \n",
    "First based on the organisation of the participant and \n",
    "within the organisations based on the unique userids. \n",
    "Since photos are large, this could take a while."
   ]
  },
  {
   "cell_type": "code",
   "execution_count": 1,
   "metadata": {},
   "outputs": [],
   "source": [
    "import os\n",
    "import requests\n",
    "import json\n",
    "import time\n",
    "\n",
    "users = {}\n",
    "#Set location of relevant JSON files\n",
    "eventfile = \"../Event.json\""
   ]
  },
  {
   "cell_type": "code",
   "execution_count": 2,
   "metadata": {},
   "outputs": [],
   "source": [
    "#Match users to their organisation. If there are no sub organisations, the value will be set to unknown. \n",
    "#You can skip running this field and it will set all organisations to 'unknown'\n",
    "userfile = \"../Users.json\"\n",
    "with open(userfile, \"r\", encoding='utf8') as read_userfiles:\n",
    "    userlist = json.load(read_userfiles)\n",
    "    for user in userlist['result']['users']:\n",
    "        if 'demographicGroup' in user.keys():\n",
    "            users[user['id']] = user['demographicGroup']\n",
    "        else:\n",
    "            users[user['id']] = 'unknown'\n",
    "\n"
   ]
  },
  {
   "cell_type": "code",
   "execution_count": 3,
   "metadata": {},
   "outputs": [
    {
     "name": "stdout",
     "output_type": "stream",
     "text": [
      "https://ikettles-hva.ams3.digitaloceanspaces.com/122b7709-9579-44c6-8625-805a7d700397.jpg\n",
      "https://ikettles-hva.ams3.digitaloceanspaces.com/70490bd7-a6a9-485d-aaf1-ec0b72d364c2.jpg\n",
      "https://ikettles-hva.ams3.digitaloceanspaces.com/f6d996cc-c72e-4a0f-b180-af707658b03b.jpg\n",
      "https://ikettles-hva.ams3.digitaloceanspaces.com/27807a5a-3e29-46ad-98ab-2c06615cdc07.jpg\n",
      "https://ikettles-hva.ams3.digitaloceanspaces.com/7955b1ad-496e-45cc-988c-d16e5d309957.jpg\n",
      "https://ikettles-hva.ams3.digitaloceanspaces.com/c8d3210a-f828-402b-aa8b-6386e338e710.jpg\n",
      "https://ikettles-hva.ams3.digitaloceanspaces.com/9ec6eafa-e395-4163-b66a-62fb109d24a3.jpg\n",
      "https://ikettles-hva.ams3.digitaloceanspaces.com/f4fdb373-81b5-4bc3-81c3-956792f5f2df.jpg\n",
      "https://ikettles-hva.ams3.digitaloceanspaces.com/63bfcd8b-8d6b-4411-9cc9-bbef856fe6bc.jpg\n",
      "https://ikettles-hva.ams3.digitaloceanspaces.com/df5d4bac-e17a-413e-b02a-e565040edeb8.jpg\n",
      "https://ikettles-hva.ams3.digitaloceanspaces.com/776f345c-064c-44b9-8be3-1935a14879be.jpg\n",
      "https://ikettles-hva.ams3.digitaloceanspaces.com/4036d737-20c5-4277-92eb-73f934f14cba.jpg\n",
      "https://ikettles-hva.ams3.digitaloceanspaces.com/10654cb0-079a-4e4f-9bb0-258800ea271b.jpg\n",
      "https://ikettles-hva.ams3.digitaloceanspaces.com/855db454-526c-4897-b954-9d4f5701eae5.jpg\n",
      "https://ikettles-hva.ams3.digitaloceanspaces.com/86df7c91-d175-49b9-9b1e-e1f7deb68cf0.jpg\n",
      "https://ikettles-hva.ams3.digitaloceanspaces.com/ba0d52bf-4aa9-4873-85d8-ca05c4c30bd3.jpg\n",
      "https://ikettles-hva.ams3.digitaloceanspaces.com/a539e6ee-455d-4f11-8771-ecaa2323f3fc.jpg\n",
      "https://ikettles-hva.ams3.digitaloceanspaces.com/ed748dfa-14fc-40dc-915f-7b592332f218.jpg\n",
      "https://ikettles-hva.ams3.digitaloceanspaces.com/2c7fd5dd-bcea-4c42-93d7-30dde2decd83.jpg\n",
      "https://ikettles-hva.ams3.digitaloceanspaces.com/8e259602-70bd-4525-a280-36bf449cb850.jpg\n",
      "https://ikettles-hva.ams3.digitaloceanspaces.com/ffaff810-e73c-4d0b-a329-c77736d7725d.jpg\n",
      "https://ikettles-hva.ams3.digitaloceanspaces.com/efc86b8d-235c-40ee-9af4-fb9561bcb15d.jpg\n",
      "https://ikettles-hva.ams3.digitaloceanspaces.com/f4960d67-4350-467a-898c-a5e8c6a474ec.jpg\n",
      "https://ikettles-hva.ams3.digitaloceanspaces.com/e7fd9745-5a5f-428d-ba07-b612c62a0efb.jpg\n",
      "https://ikettles-hva.ams3.digitaloceanspaces.com/822c2ca6-5746-4d56-ace5-5c9c15e907f8.jpg\n",
      "https://ikettles-hva.ams3.digitaloceanspaces.com/200c441c-57c8-49d4-abbe-ec0ea3f1b813.jpg\n",
      "https://ikettles-hva.ams3.digitaloceanspaces.com/a7b3282c-736c-449e-94e6-e4ff0d4e2e6b.jpg\n",
      "https://ikettles-hva.ams3.digitaloceanspaces.com/1b622f04-94e7-4e81-9a13-b94ea3f7f109.jpg\n",
      "https://ikettles-hva.ams3.digitaloceanspaces.com/e2fe39e2-e9e4-420a-924d-baaeb91d8e5c.jpg\n",
      "https://ikettles-hva.ams3.digitaloceanspaces.com/a870ce98-5adc-4461-bdb3-83980f2f135b.jpg\n",
      "https://ikettles-hva.ams3.digitaloceanspaces.com/bae49963-abf2-4ad6-a507-98036170f136.jpg\n",
      "https://ikettles-hva.ams3.digitaloceanspaces.com/75d37d42-2ad4-4941-bd90-3de0b4dc5bdb.jpg\n",
      "https://ikettles-hva.ams3.digitaloceanspaces.com/28b78ddd-87ee-41d2-b810-801c50555c11.jpg\n",
      "https://ikettles-hva.ams3.digitaloceanspaces.com/b2bb9ed3-1444-49fb-ab08-43da2ed6f16c.jpg\n",
      "https://ikettles-hva.ams3.digitaloceanspaces.com/cf8a9711-a8ca-4a73-80a6-cd6197769788.jpg\n",
      "https://ikettles-hva.ams3.digitaloceanspaces.com/bc2cfb4e-40f8-4eb1-bdd4-f203f87bccb0.jpg\n",
      "https://ikettles-hva.ams3.digitaloceanspaces.com/bc885276-51b1-435a-9459-255be07ffe6a.jpg\n",
      "https://ikettles-hva.ams3.digitaloceanspaces.com/8a52a3d1-5638-4bbe-a1a9-eca1f6a1fa39.jpg\n",
      "https://ikettles-hva.ams3.digitaloceanspaces.com/b366a839-ab4e-4fdf-a7cf-a41cb7f09177.jpg\n",
      "https://ikettles-hva.ams3.digitaloceanspaces.com/8af2e424-2f5c-4e71-bd10-98784455f91b.jpg\n",
      "https://ikettles-hva.ams3.digitaloceanspaces.com/582d328a-f31d-4e62-a06b-800442f19a2e.jpg\n",
      "https://ikettles-hva.ams3.digitaloceanspaces.com/da921aa6-6f02-4db8-99ea-d69092b63cc9.jpg\n",
      "https://ikettles-hva.ams3.digitaloceanspaces.com/00f4cfc5-d9ea-4364-b09b-41e7c867e3ad.jpg\n",
      "https://ikettles-hva.ams3.digitaloceanspaces.com/87c4dd6a-8a87-42b1-af22-bb008c4f5358.jpg\n",
      "https://ikettles-hva.ams3.digitaloceanspaces.com/1483a5d4-4e55-4b4f-82dd-6c55b91b2c8b.jpg\n",
      "https://ikettles-hva.ams3.digitaloceanspaces.com/ee598df8-afea-4c6c-be52-c390ca74d510.jpg\n",
      "https://ikettles-hva.ams3.digitaloceanspaces.com/a8a578cb-0b30-425e-9331-93c5e70b10dc.jpg\n",
      "https://ikettles-hva.ams3.digitaloceanspaces.com/1b4a7de6-5a64-453c-9ecf-110c1fc435f2.jpg\n",
      "https://ikettles-hva.ams3.digitaloceanspaces.com/9af53b98-f8f6-4358-92f0-d5159157357e.jpg\n",
      "https://ikettles-hva.ams3.digitaloceanspaces.com/be37a213-4f6f-45ec-90e6-eeece018f806.jpg\n",
      "https://ikettles-hva.ams3.digitaloceanspaces.com/8736eb0f-867e-4bde-aa88-4463b48d8cb9.jpg\n",
      "https://ikettles-hva.ams3.digitaloceanspaces.com/d70ae477-fa28-40e8-99e7-917ad11c27f1.jpg\n",
      "https://ikettles-hva.ams3.digitaloceanspaces.com/889e2374-b6e8-4d23-9393-5f08152c71d0.jpg\n",
      "https://ikettles-hva.ams3.digitaloceanspaces.com/4cfccaed-8f42-4f00-958f-8d9743b20221.jpg\n",
      "https://ikettles-hva.ams3.digitaloceanspaces.com/be2044a8-6afe-487e-900b-72e0944e2b40.jpg\n",
      "https://ikettles-hva.ams3.digitaloceanspaces.com/c71cd0fe-023b-4da5-8197-53655189743f.jpg\n",
      "https://ikettles-hva.ams3.digitaloceanspaces.com/291aae2f-e5a8-4f6e-930d-11f7c6df0257.jpg\n",
      "https://ikettles-hva.ams3.digitaloceanspaces.com/282da10a-6c17-4937-9c42-731a278e449d.jpg\n",
      "https://ikettles-hva.ams3.digitaloceanspaces.com/656cb168-fea9-4808-a940-e869bd03e127.jpg\n",
      "https://ikettles-hva.ams3.digitaloceanspaces.com/46f4e5fb-edc3-4d25-b1c0-e1b20ba7a5c7.jpg\n",
      "https://ikettles-hva.ams3.digitaloceanspaces.com/6230a327-d2de-4740-a928-4632751764b9.jpg\n",
      "https://ikettles-hva.ams3.digitaloceanspaces.com/d8de0778-b1a1-4d40-8a11-158a1abba880.jpg\n",
      "https://ikettles-hva.ams3.digitaloceanspaces.com/fa5f635f-baa4-4fc6-8a30-f8953ceb4ed2.jpg\n",
      "https://ikettles-hva.ams3.digitaloceanspaces.com/1fabf661-5bbf-4d23-b87e-1d5955e54787.jpg\n",
      "https://ikettles-hva.ams3.digitaloceanspaces.com/e0c66ab4-822f-4e5b-9f4d-ea65b57f1b91.jpg\n",
      "https://ikettles-hva.ams3.digitaloceanspaces.com/2f7ad7a0-31e3-4c73-b1b7-2a0b35335b61.jpg\n",
      "https://ikettles-hva.ams3.digitaloceanspaces.com/c1fbd209-a1ee-4f56-866c-9bbf4e4833e7.jpg\n",
      "https://ikettles-hva.ams3.digitaloceanspaces.com/ca4a66c9-4029-4c7f-b2e2-394200de128b.jpg\n",
      "https://ikettles-hva.ams3.digitaloceanspaces.com/2933f533-1248-429b-a003-5abb68c719b1.jpg\n",
      "https://ikettles-hva.ams3.digitaloceanspaces.com/75314a6e-a9de-4f6a-993c-9dc202de594a.jpg\n",
      "https://ikettles-hva.ams3.digitaloceanspaces.com/269b888f-e445-40c8-82ff-e50a5b9920aa.jpg\n",
      "https://ikettles-hva.ams3.digitaloceanspaces.com/8b08898b-406b-4a5b-836f-05cc3f7482f7.jpg\n",
      "https://ikettles-hva.ams3.digitaloceanspaces.com/a8abb1d0-2777-42c4-8a7e-cc3f80a81b05.jpg\n",
      "https://ikettles-hva.ams3.digitaloceanspaces.com/3d730959-9e4d-4162-8ee9-e3a88b7f996a.jpg\n",
      "https://ikettles-hva.ams3.digitaloceanspaces.com/5ccc9eb2-ffb6-436b-9ffa-de152d141f74.jpg\n"
     ]
    }
   ],
   "source": [
    "#Go through event(photo)file and download photos from server\n",
    "with open(eventfile, \"r\") as read_file:\n",
    "    data = json.load(read_file)\n",
    "    dataList = []\n",
    "    for photo in data['result']['photos']:\n",
    "        user = photo['createdBy']\n",
    "        print(photo['imageUrl'])\n",
    "        photo_id = photo['id']\n",
    "        if not users:\n",
    "            user_org = 'unknown'\n",
    "        else:\n",
    "            try:\n",
    "                user_org = users[user]\n",
    "            except KeyError:\n",
    "                user_org = 'NotFound'\n",
    "        if not os.path.exists(\"data/\"+user_org+\"/\"+user):\n",
    "            os.makedirs(\"data/\"+user_org+\"/\"+user)\n",
    "        if os.path.exists('data/'+user_org+'/'+user+'/'+photo_id+'.jpg'):\n",
    "            print('file already exists')\n",
    "        else:\n",
    "            with open('data/'+user_org+'/'+user+'/'+photo_id+'.jpg', 'wb') as handler:\n",
    "                if photo['imageUrl'][:4] == 'http':\n",
    "                    img_data = requests.get(photo['imageUrl']).content\n",
    "                else:\n",
    "                    img_data = requests.get(\"https://\"+photo['imageUrl']).content\n",
    "                handler.write(img_data)\n",
    "                time.sleep(1)\n",
    "       \n",
    "            "
   ]
  },
  {
   "cell_type": "code",
   "execution_count": null,
   "metadata": {},
   "outputs": [],
   "source": []
  }
 ],
 "metadata": {
  "kernelspec": {
   "display_name": "Python 3",
   "language": "python",
   "name": "python3"
  },
  "language_info": {
   "codemirror_mode": {
    "name": "ipython",
    "version": 3
   },
   "file_extension": ".py",
   "mimetype": "text/x-python",
   "name": "python",
   "nbconvert_exporter": "python",
   "pygments_lexer": "ipython3",
   "version": "3.7.3"
  }
 },
 "nbformat": 4,
 "nbformat_minor": 2
}
