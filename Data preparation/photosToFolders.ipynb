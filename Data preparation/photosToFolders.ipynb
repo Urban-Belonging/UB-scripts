{
 "cells": [
  {
   "cell_type": "markdown",
   "metadata": {},
   "source": [
    "# Download photos to folders"
   ]
  },
  {
   "cell_type": "markdown",
   "metadata": {},
   "source": [
    "Required files:\n",
    "- Userlist from Urban Belonging app\n",
    "- Event export JSON containing all the photos\n",
    "\n",
    "\n",
    "Result: All photos will be distributed in folders. \n",
    "First based on the organisation of the participant and \n",
    "within the organisations based on the unique userids. \n",
    "Since photos are large, this could take a while."
   ]
  },
  {
   "cell_type": "code",
   "execution_count": 1,
   "metadata": {},
   "outputs": [],
   "source": [
    "import os\n",
    "import requests\n",
    "import json\n",
    "import time\n",
    "\n",
    "users = {}\n",
    "#Set location of relevant JSON files\n",
    "eventfile = \"Full_event.json\""
   ]
  },
  {
   "cell_type": "code",
   "execution_count": 3,
   "metadata": {},
   "outputs": [],
   "source": [
    "#Match users to their organisation. If there are no sub organisations, the value will be set to unknown. \n",
    "#You can skip running this field and it will set all organisations to 'unknown'\n",
    "userfile = \"Users.json\"\n",
    "with open(userfile, \"r\", encoding='utf8') as read_userfiles:\n",
    "    userlist = json.load(read_userfiles)\n",
    "    for user in userlist['result']['users']:\n",
    "        if 'demographicGroup' in user.keys():\n",
    "            users[user['id']] = user['demographicGroup']\n",
    "        else:\n",
    "            users[user['id']] = 'unknown'\n",
    "\n"
   ]
  },
  {
   "cell_type": "code",
   "execution_count": 5,
   "metadata": {},
   "outputs": [
    {
     "name": "stdout",
     "output_type": "stream",
     "text": [
      "https://ikettles-hva.ams3.digitaloceanspaces.com/a4eee0ce-7e5a-490e-b233-8bb53a73546b.jpg\n",
      "https://ikettles-hva.ams3.digitaloceanspaces.com/69135fc6-e84e-446f-974b-938e2f5978cc.jpg\n",
      "https://ikettles-hva.ams3.digitaloceanspaces.com/61dfe08f-f6aa-4dad-8eac-f559687208f5.jpg\n",
      "https://ikettles-hva.ams3.digitaloceanspaces.com/c15fecdc-37d7-45c0-9434-704b2d1a55ce.jpg\n",
      "https://ikettles-hva.ams3.digitaloceanspaces.com/c0e2532d-117f-4f0d-a342-0e888ce941f8.jpg\n",
      "https://ikettles-hva.ams3.digitaloceanspaces.com/31046c48-112d-494a-b917-b1f763cebbe0.jpg\n",
      "https://ikettles-hva.ams3.digitaloceanspaces.com/00f286ef-3729-48e0-b873-b799a7d34d78.jpg\n",
      "https://ikettles-hva.ams3.digitaloceanspaces.com/41586876-edf5-4d3f-96db-878063ae9403.jpg\n",
      "https://ikettles-hva.ams3.digitaloceanspaces.com/d537cdd9-668c-491f-a54b-492ed302a0ca.jpg\n",
      "https://ikettles-hva.ams3.digitaloceanspaces.com/644a845c-c908-4d05-b648-768dffa35684.jpg\n",
      "https://ikettles-hva.ams3.digitaloceanspaces.com/796bd74a-3a15-4a91-97f1-b74a08ed4382.jpg\n",
      "https://ikettles-hva.ams3.digitaloceanspaces.com/88161401-42e8-407b-881f-8d44f5b1cf2a.jpg\n",
      "https://ikettles-hva.ams3.digitaloceanspaces.com/3ad8e7e1-3ffd-46bc-93f6-e77b23486a51.jpg\n",
      "https://ikettles-hva.ams3.digitaloceanspaces.com/45e18ad7-6ba8-4e73-959b-4abb2cdec009.jpg\n",
      "https://ikettles-hva.ams3.digitaloceanspaces.com/d06fe7e9-42b6-4fc8-b00b-7a0d447b0bd3.jpg\n"
     ]
    }
   ],
   "source": [
    "#Go through event(photo)file and download photos from server\n",
    "with open(eventfile, \"r\") as read_file:\n",
    "    data = json.load(read_file)\n",
    "    dataList = []\n",
    "    for photo in data['result']['photos']:\n",
    "        user = photo['createdBy']\n",
    "        print(photo['imageUrl'])\n",
    "        photo_id = photo['id']\n",
    "        if not users:\n",
    "            user_org = 'unknown'\n",
    "        else:\n",
    "            try:\n",
    "                user_org = users[user]\n",
    "            except KeyError:\n",
    "                user_org = 'NotFound'\n",
    "        if not os.path.exists(\"data/\"+user_org+\"/\"+user):\n",
    "            os.makedirs(\"data/\"+user_org+\"/\"+user)\n",
    "        if os.path.exists('data/'+user_org+'/'+user+'/'+photo_id+'.jpg'):\n",
    "            print('file already exists')\n",
    "        else:\n",
    "            with open('data/'+user_org+'/'+user+'/'+photo_id+'.jpg', 'wb') as handler:\n",
    "                if photo['imageUrl'][:4] == 'http':\n",
    "                    img_data = requests.get(photo['imageUrl']).content\n",
    "                else:\n",
    "                    img_data = requests.get(\"https://\"+photo['imageUrl']).content\n",
    "                handler.write(img_data)\n",
    "                time.sleep(1)\n",
    "       \n",
    "            "
   ]
  },
  {
   "cell_type": "code",
   "execution_count": null,
   "metadata": {},
   "outputs": [],
   "source": []
  }
 ],
 "metadata": {
  "kernelspec": {
   "display_name": "Python 3",
   "language": "python",
   "name": "python3"
  },
  "language_info": {
   "codemirror_mode": {
    "name": "ipython",
    "version": 3
   },
   "file_extension": ".py",
   "mimetype": "text/x-python",
   "name": "python",
   "nbconvert_exporter": "python",
   "pygments_lexer": "ipython3",
   "version": "3.7.3"
  }
 },
 "nbformat": 4,
 "nbformat_minor": 2
}
