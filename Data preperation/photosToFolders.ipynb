{
 "cells": [
  {
   "cell_type": "markdown",
   "metadata": {},
   "source": [
    "# Download photos to folders"
   ]
  },
  {
   "cell_type": "markdown",
   "metadata": {},
   "source": [
    "Required files:\n",
    "- Userlist from Urban Belonging app\n",
    "- Event export JSON containing all the photos\n",
    "\n",
    "\n",
    "Result: All photos will be distributed in folders. \n",
    "First based on the organisation of the participant and \n",
    "within the organisations based on the unique userids. \n",
    "Since photos are large, this could take a while."
   ]
  },
  {
   "cell_type": "code",
   "execution_count": null,
   "metadata": {},
   "outputs": [],
   "source": [
    "import os\n",
    "import requests\n",
    "import json\n",
    "import time\n",
    "\n",
    "#Set location of relevant JSON files\n",
    "userfile = \"LinkToUserFile.json\"\n",
    "eventfile = \"LinkToEventFile.json\""
   ]
  },
  {
   "cell_type": "code",
   "execution_count": null,
   "metadata": {},
   "outputs": [],
   "source": [
    "#Match users to their organisation. If there are no sub organisations, the value will be set to unknown\n",
    "users = {}\n",
    "with open(userfile, \"r\") as read_userfiles:\n",
    "    userlist = json.load(read_userfiles)\n",
    "    for user in userlist['result']['users']:\n",
    "        if 'demographicGroup' in user.keys():\n",
    "            users[user['id']] = user['demographicGroup']\n",
    "        else:\n",
    "            users[user['id']] = 'unknown'\n",
    "\n"
   ]
  },
  {
   "cell_type": "code",
   "execution_count": null,
   "metadata": {},
   "outputs": [],
   "source": [
    "#Go through event(photo)file and download photos from server\n",
    "with open(eventfile, \"r\") as read_file:\n",
    "    data = json.load(read_file)\n",
    "    dataList = []\n",
    "    for photo in data['result']['photos']:\n",
    "        user = photo['createdBy']\n",
    "        print(photo['imageUrl'])\n",
    "        photo_id = photo['id']\n",
    "        user_org = users[user]\n",
    "        if not os.path.exists(\"data/\"+user_org+\"/\"+user):\n",
    "            os.makedirs(\"data/\"+user_org+\"/\"+user)\n",
    "        if os.path.exists('data/'+user_org+'/'+user+'/'+photo_id+'.jpg'):\n",
    "            print('file already exists')\n",
    "        else:\n",
    "            with open('data/'+user_org+'/'+user+'/'+photo_id+'.jpg', 'wb') as handler:\n",
    "                if photo['imageUrl'][:4] == 'http':\n",
    "                    img_data = requests.get(photo['imageUrl']).content\n",
    "                else:\n",
    "                    img_data = requests.get(\"https://\"+photo['imageUrl']).content\n",
    "                handler.write(img_data)\n",
    "                time.sleep(1)\n",
    "       \n",
    "            "
   ]
  }
 ],
 "metadata": {
  "kernelspec": {
   "display_name": "Python 3",
   "language": "python",
   "name": "python3"
  },
  "language_info": {
   "codemirror_mode": {
    "name": "ipython",
    "version": 3
   },
   "file_extension": ".py",
   "mimetype": "text/x-python",
   "name": "python",
   "nbconvert_exporter": "python",
   "pygments_lexer": "ipython3",
   "version": "3.7.3"
  }
 },
 "nbformat": 4,
 "nbformat_minor": 2
}
